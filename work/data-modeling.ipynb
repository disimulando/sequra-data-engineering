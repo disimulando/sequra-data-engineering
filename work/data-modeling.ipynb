{
 "cells": [
  {
   "cell_type": "code",
   "execution_count": 16,
   "id": "4d60615c-661b-49ec-aadd-fa936c34585d",
   "metadata": {},
   "outputs": [
    {
     "name": "stdout",
     "output_type": "stream",
     "text": [
      "Requirement already satisfied: psycopg2-binary in /opt/conda/lib/python3.9/site-packages (2.9.3)\n"
     ]
    }
   ],
   "source": [
    "import sys\n",
    "!{sys.executable} -m pip install psycopg2-binary\n",
    "\n",
    "import psycopg2 as pg"
   ]
  },
  {
   "cell_type": "code",
   "execution_count": 17,
   "id": "7197b4b5-74a9-4d38-9f98-247fb374e92c",
   "metadata": {},
   "outputs": [],
   "source": [
    "conn = pg.connect(dbname=\"sequra\", user=\"docker\", password=\"docker\", host=\"postgresql_sequra\", port=5432)"
   ]
  },
  {
   "cell_type": "markdown",
   "id": "63cd802a-6b61-4969-80da-79ad2aae9589",
   "metadata": {},
   "source": [
    "## Load Mock Data into the database"
   ]
  },
  {
   "cell_type": "code",
   "execution_count": 18,
   "id": "0adc3a0d-d188-4cee-973b-5e943a35f092",
   "metadata": {},
   "outputs": [],
   "source": [
    "with open(\"data-modeling-fixtures.sql\", \"r\") as file:\n",
    "    sql = file.read()\n",
    "\n",
    "cursor = conn.cursor()\n",
    "\n",
    "try:\n",
    "    cursor.execute(sql)\n",
    "    conn.commit()\n",
    "except (Exception, pg.DatabaseError) as error:\n",
    "    print(\"Error: %s\" % error)\n",
    "    conn.rollback()\n",
    "    cursor.close()\n",
    "\n",
    "cursor.close()"
   ]
  },
  {
   "cell_type": "markdown",
   "id": "f84aa109-9a71-4656-b298-d25775c02769",
   "metadata": {},
   "source": [
    "## Solution"
   ]
  },
  {
   "cell_type": "code",
   "execution_count": 19,
   "id": "3ea29159-a743-4d6d-9e99-e1c7996ea91e",
   "metadata": {},
   "outputs": [],
   "source": [
    "sql = \"\"\"\n",
    "\n",
    "DROP TABLE IF EXISTS data_modeling.l1_cohort_months;\n",
    "\n",
    "CREATE TABLE data_modeling.l1_cohort_months (\n",
    "  month VARCHAR(50)\n",
    ");\n",
    "\n",
    "INSERT INTO data_modeling.l1_cohort_months VALUES \n",
    "  ('2017-01'),  ('2017-02'),  ('2017-03'),  ('2017-04'),  ('2017-05'),  ('2017-06'),  ('2017-07'),  ('2017-08'),  ('2017-09'),  ('2017-10'),  ('2017-11'),  ('2017-12'),\n",
    "  ('2018-01'),  ('2018-02'),  ('2018-03'),  ('2018-04'),  ('2018-05'),  ('2018-06'),  ('2018-07'),  ('2018-08'),  ('2018-09'),  ('2018-10'),  ('2018-11'),  ('2018-12'),\n",
    "  ('2019-01'),  ('2019-02'),  ('2019-03'),  ('2019-04'),  ('2019-05'),  ('2019-06'),  ('2019-07'),  ('2019-08'),  ('2019-09'),  ('2019-10'),  ('2019-11'),  ('2019-12'),\n",
    "  ('2020-01'),  ('2020-02'),  ('2020-03'),  ('2020-04'),  ('2020-05'),  ('2020-06'),  ('2020-07'),  ('2020-08'),  ('2020-09'),  ('2020-10'),  ('2020-11'),  ('2020-12'),\n",
    "  ('2021-01'),  ('2021-02'),  ('2021-03'),  ('2021-04'),  ('2021-05'),  ('2021-06'),  ('2021-07'),  ('2021-08'),  ('2021-09'),  ('2021-10'),  ('2021-11'),  ('2021-12'),\n",
    "  ('2022-01'),  ('2022-02'),  ('2022-03'),  ('2022-04'),  ('2022-05'),  ('2022-06'),  ('2022-07'),  ('2022-08'),  ('2022-09'),  ('2022-10'),  ('2022-11'),  ('2022-12');\n",
    "\n",
    "\"\"\"\n",
    "\n",
    "cursor = conn.cursor()\n",
    "\n",
    "try:\n",
    "    cursor.execute(sql)\n",
    "    conn.commit()\n",
    "except (Exception, pg.DatabaseError) as error:\n",
    "    print(\"Error: %s\" % error)\n",
    "    conn.rollback()\n",
    "    cursor.close()\n",
    "\n",
    "cursor.close()"
   ]
  },
  {
   "cell_type": "code",
   "execution_count": 20,
   "id": "c9beff1e-1f94-4f88-9087-2245e1c6e216",
   "metadata": {},
   "outputs": [],
   "source": [
    "sql = \"\"\"\n",
    "\n",
    "DROP TABLE IF EXISTS data_modeling.l1_cohort_month_periods;\n",
    "\n",
    "CREATE TABLE data_modeling.l1_cohort_month_periods (\n",
    "    period VARCHAR(50),\n",
    "    min_days INTEGER,\n",
    "    max_days INTEGER\n",
    ");\n",
    "\n",
    "INSERT INTO data_modeling.l1_cohort_month_periods VALUES\n",
    "  ('M0',0,0),\n",
    "  ('M1',1,30),\n",
    "  ('M2',31,60),\n",
    "  ('M3',61,90),\n",
    "  ('M4',91,120),\n",
    "  ('M5',121,150),\n",
    "  ('M6',151,180),\n",
    "  ('M7',181,210),\n",
    "  ('M8',211,240),\n",
    "  ('M9',241,270),\n",
    "  ('M10',271,300),\n",
    "  ('M11',301,330),\n",
    "  ('M12',331,360);\n",
    "\n",
    "\"\"\"\n",
    "\n",
    "cursor = conn.cursor()\n",
    "\n",
    "try:\n",
    "    cursor.execute(sql)\n",
    "    conn.commit()\n",
    "except (Exception, pg.DatabaseError) as error:\n",
    "    print(\"Error: %s\" % error)\n",
    "    conn.rollback()\n",
    "    cursor.close()\n",
    "\n",
    "cursor.close()"
   ]
  },
  {
   "cell_type": "code",
   "execution_count": 21,
   "id": "8b127ef7-991a-455c-b57a-22906fcadab2",
   "metadata": {},
   "outputs": [],
   "source": [
    "sql = \"\"\"\n",
    "\n",
    "WITH facts AS (\n",
    "  SELECT \n",
    "      od.si_order_id,\n",
    "      od.loan_reference,\n",
    "      od.current_product_name,\n",
    "      to_char(od.confirmed_at, 'YYYY-MM') AS cohort_month,\n",
    "      od.record_date - od.confirmed_at AS cohort_month_period, \n",
    "      m.sector AS cohort_sector,\n",
    "      m.name AS cohort_merchant,\n",
    "      dt.default_state_name AS cohort_default_type\n",
    "    FROM\n",
    "      data_modeling.fact_orders_d od\n",
    "    JOIN\n",
    "      data_modeling.dim_default_type dt on od.default_type_id = dt.default_type_id\n",
    "    JOIN\n",
    "      data_modeling.dim_merchants m on od.merchant_id = m.merchant_id\n",
    "),\n",
    "aggregated_facts AS \n",
    "(\n",
    "    SELECT\n",
    "      l1cmp.period,\n",
    "      l1cm.month,\n",
    "      count(1) as fact_count\n",
    "    FROM\n",
    "      data_modeling.l1_cohort_months l1cm\n",
    "    LEFT JOIN facts f ON\n",
    "        f.cohort_month = l1cm.month   \n",
    "    LEFT JOIN \n",
    "      data_modeling.l1_cohort_month_periods l1cmp ON \n",
    "        f.cohort_month_period >= l1cmp.min_days AND\n",
    "        f.cohort_month_period <= l1cmp.max_days    \n",
    "    GROUP BY 1, 2\n",
    ")\n",
    "  SELECT\n",
    "    af.period,\n",
    "    af.month,\n",
    "    af.fact_count\n",
    "  FROM aggregated_facts af\n",
    "  WHERE \n",
    "    af.period IS NOT NULL\n",
    "\n",
    "\"\"\"\n",
    "\n",
    "cursor = conn.cursor('data_modeling_cursor')\n",
    "\n",
    "try:\n",
    "    \n",
    "    cursor.itersize = 5000\n",
    "    cursor.execute(sql)\n",
    "\n",
    "    while True:\n",
    "        rows = cursor.fetchmany(size=5000)\n",
    "\n",
    "        for row in rows:\n",
    "            print(row)\n",
    "        \n",
    "        if not rows:\n",
    "            break\n",
    "\n",
    "except (Exception, pg.DatabaseError) as error:\n",
    "    print(\"Error: %s\" % error)\n",
    "    cursor.close()\n",
    "\n",
    "cursor.close()"
   ]
  },
  {
   "cell_type": "code",
   "execution_count": 22,
   "id": "53b60292-1c3a-4f32-afd6-f2eaf676f76a",
   "metadata": {},
   "outputs": [],
   "source": [
    "conn.close()"
   ]
  }
 ],
 "metadata": {
  "kernelspec": {
   "display_name": "Python 3 (ipykernel)",
   "language": "python",
   "name": "python3"
  },
  "language_info": {
   "codemirror_mode": {
    "name": "ipython",
    "version": 3
   },
   "file_extension": ".py",
   "mimetype": "text/x-python",
   "name": "python",
   "nbconvert_exporter": "python",
   "pygments_lexer": "ipython3",
   "version": "3.9.10"
  }
 },
 "nbformat": 4,
 "nbformat_minor": 5
}
