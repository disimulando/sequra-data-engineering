{
 "cells": [
  {
   "cell_type": "code",
   "execution_count": 6,
   "id": "4d60615c-661b-49ec-aadd-fa936c34585d",
   "metadata": {},
   "outputs": [
    {
     "name": "stdout",
     "output_type": "stream",
     "text": [
      "Requirement already satisfied: psycopg2-binary in /opt/conda/lib/python3.9/site-packages (2.9.3)\n"
     ]
    }
   ],
   "source": [
    "import sys\n",
    "!{sys.executable} -m pip install psycopg2-binary\n",
    "\n",
    "import psycopg2 as pg"
   ]
  },
  {
   "cell_type": "code",
   "execution_count": 7,
   "id": "7197b4b5-74a9-4d38-9f98-247fb374e92c",
   "metadata": {},
   "outputs": [],
   "source": [
    "conn = pg.connect(dbname=\"sequra\", user=\"docker\", password=\"docker\", host=\"postgresql_sequra\", port=5432)"
   ]
  },
  {
   "cell_type": "markdown",
   "id": "63cd802a-6b61-4969-80da-79ad2aae9589",
   "metadata": {},
   "source": [
    "## Load Mock Data into the database"
   ]
  },
  {
   "cell_type": "code",
   "execution_count": 8,
   "id": "0adc3a0d-d188-4cee-973b-5e943a35f092",
   "metadata": {},
   "outputs": [],
   "source": [
    "with open(\"sql-1-fixtures.sql\", \"r\") as file:\n",
    "    sql = file.read()\n",
    "\n",
    "cursor = conn.cursor()\n",
    "\n",
    "try:\n",
    "    cursor.execute(sql)\n",
    "    conn.commit()\n",
    "except (Exception, pg.DatabaseError) as error:\n",
    "    print(\"Error: %s\" % error)\n",
    "    conn.rollback()\n",
    "    cursor.close()\n",
    "\n",
    "cursor.close()"
   ]
  },
  {
   "cell_type": "markdown",
   "id": "d3b93f37-cef9-449f-bafc-3941049e3931",
   "metadata": {},
   "source": [
    "## Solution"
   ]
  },
  {
   "cell_type": "code",
   "execution_count": 9,
   "id": "cda0df89-70eb-41d0-aaf9-906bc2c96a5e",
   "metadata": {},
   "outputs": [
    {
     "name": "stdout",
     "output_type": "stream",
     "text": [
      "(17, 3, datetime.date(2022, 1, 7), 'chargeback', 10)\n",
      "(18, 5, datetime.date(2022, 1, 10), 'chargeback', 50)\n"
     ]
    }
   ],
   "source": [
    "sql = \"\"\"\n",
    "\n",
    "WITH credits AS (\n",
    "\n",
    "  SELECT \n",
    "    distinct(cd.credit_id) AS credit_id,\n",
    "    cd.ext_fin_id AS financer_id\n",
    "  FROM\n",
    "    sql_1.fact_credit_d cd\n",
    "  WHERE\n",
    "    cd.record_date = (select max(cd.record_date) FROM sql_1.fact_credit_d cd WHERE DATE_PART('y', cd.record_date) = '2022')\n",
    "\n",
    "),\n",
    "financer AS (\n",
    "\n",
    "  SELECT\n",
    "    ef.ext_fin_id AS financer_id  \n",
    "  FROM\n",
    "    sql_1.dim_ext_fin ef\n",
    "  WHERE\n",
    "    ef.name = 'Fund2'\n",
    "\n",
    "), \n",
    "financer_credits AS (\n",
    "\n",
    "  SELECT \n",
    "    c.credit_id AS credit_id\n",
    "  FROM\n",
    "    credits c\n",
    "  INNER JOIN \n",
    "    financer f ON c.financer_id = f.financer_id\n",
    "\n",
    ")\n",
    "\n",
    "  SELECT \n",
    "    evd.credit_id,\n",
    "    evd.economic_event_id,\n",
    "    evd.record_date,\n",
    "    evd.type,\n",
    "    evd.amount\n",
    "  FROM\n",
    "    sql_1.fact_economic_events_d evd\n",
    "  INNER JOIN\n",
    "    financer_credits fc ON fc.credit_id = evd.credit_id\n",
    "  WHERE \n",
    "   type = 'chargeback' AND\n",
    "   DATE_PART('y', record_date) = '2022';\n",
    "\n",
    "\"\"\"\n",
    "\n",
    "cursor = conn.cursor('sql_1_cursor')\n",
    "\n",
    "try:\n",
    "    \n",
    "    cursor.itersize = 5000\n",
    "    cursor.execute(sql)\n",
    "\n",
    "    while True:\n",
    "        rows = cursor.fetchmany(size=5000)\n",
    "\n",
    "        for row in rows:\n",
    "            print(row)\n",
    "        \n",
    "        if not rows:\n",
    "            break\n",
    "\n",
    "except (Exception, pg.DatabaseError) as error:\n",
    "    print(\"Error: %s\" % error)\n",
    "    cursor.close()\n",
    "\n",
    "cursor.close()"
   ]
  },
  {
   "cell_type": "code",
   "execution_count": 10,
   "id": "53b60292-1c3a-4f32-afd6-f2eaf676f76a",
   "metadata": {},
   "outputs": [],
   "source": [
    "conn.close()"
   ]
  }
 ],
 "metadata": {
  "kernelspec": {
   "display_name": "Python 3 (ipykernel)",
   "language": "python",
   "name": "python3"
  },
  "language_info": {
   "codemirror_mode": {
    "name": "ipython",
    "version": 3
   },
   "file_extension": ".py",
   "mimetype": "text/x-python",
   "name": "python",
   "nbconvert_exporter": "python",
   "pygments_lexer": "ipython3",
   "version": "3.9.10"
  }
 },
 "nbformat": 4,
 "nbformat_minor": 5
}
