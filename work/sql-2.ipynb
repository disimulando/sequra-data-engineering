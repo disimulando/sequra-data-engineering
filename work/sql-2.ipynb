{
 "cells": [
  {
   "cell_type": "code",
   "execution_count": 5,
   "id": "4d60615c-661b-49ec-aadd-fa936c34585d",
   "metadata": {},
   "outputs": [
    {
     "name": "stdout",
     "output_type": "stream",
     "text": [
      "Requirement already satisfied: psycopg2-binary in /opt/conda/lib/python3.9/site-packages (2.9.3)\n"
     ]
    }
   ],
   "source": [
    "import sys\n",
    "!{sys.executable} -m pip install psycopg2-binary\n",
    "\n",
    "import psycopg2 as pg"
   ]
  },
  {
   "cell_type": "code",
   "execution_count": 6,
   "id": "7197b4b5-74a9-4d38-9f98-247fb374e92c",
   "metadata": {},
   "outputs": [],
   "source": [
    "conn = pg.connect(dbname=\"sequra\", user=\"docker\", password=\"docker\", host=\"postgresql_sequra\", port=5432)"
   ]
  },
  {
   "cell_type": "markdown",
   "id": "63cd802a-6b61-4969-80da-79ad2aae9589",
   "metadata": {},
   "source": [
    "## Load Mock Data into the database"
   ]
  },
  {
   "cell_type": "code",
   "execution_count": 7,
   "id": "0adc3a0d-d188-4cee-973b-5e943a35f092",
   "metadata": {},
   "outputs": [],
   "source": [
    "with open(\"sql-2-fixtures.sql\", \"r\") as file:\n",
    "    sql = file.read()\n",
    "\n",
    "cursor = conn.cursor()\n",
    "\n",
    "try:\n",
    "    cursor.execute(sql)\n",
    "    conn.commit()\n",
    "except (Exception, pg.DatabaseError) as error:\n",
    "    print(\"Error: %s\" % error)\n",
    "    conn.rollback()\n",
    "    cursor.close()\n",
    "\n",
    "cursor.close()"
   ]
  },
  {
   "cell_type": "markdown",
   "id": "fb988dfa-9dc1-4145-b68f-38f401a7f56d",
   "metadata": {},
   "source": [
    "## Solution"
   ]
  },
  {
   "cell_type": "code",
   "execution_count": 8,
   "id": "2861d9da-9358-4612-92de-c0869be9a806",
   "metadata": {},
   "outputs": [
    {
     "name": "stdout",
     "output_type": "stream",
     "text": [
      "(2019.0, 1, 2, -50)\n",
      "(2020.0, 1, 1, 0)\n",
      "(2021.0, 1, 1, 0)\n"
     ]
    }
   ],
   "source": [
    "sql = \"\"\"\n",
    "\n",
    "WITH stats AS (\n",
    "\n",
    "  SELECT\n",
    "    DATE_PART('y', live_on) AS s_year,\n",
    "    count(m.merchant_id) AS s_year_number  \n",
    "  FROM\n",
    "    sql_2.dim_merchants m\n",
    "  WHERE \n",
    "    api_status = 'allowed' AND \n",
    "    live_on IS NOT NULL\n",
    "  GROUP BY 1\n",
    "  ORDER BY 1 ASC\n",
    "\n",
    "),\n",
    "stats_evolution AS (\n",
    "\n",
    "  SELECT \n",
    "    s.s_year AS current_year,\n",
    "    s.s_year_number AS current_year_number,\n",
    "    LAG(s.s_year) OVER (ORDER by s.s_year) AS past_year, \n",
    "    LAG(s.s_year_number) OVER (ORDER by s.s_year) AS past_year_number \n",
    "  FROM\n",
    "    stats s\n",
    "\n",
    ")\n",
    "\n",
    "  SELECT\n",
    "    se.current_year,\n",
    "    se.current_year_number,\n",
    "    se.past_year_number,\n",
    "    CEIL(((se.current_year_number - se.past_year_number)::DECIMAL/se.past_year_number::DECIMAL)*100)::integer AS growth   \n",
    "  FROM\n",
    "    stats_evolution se\n",
    "  WHERE\n",
    "    se.past_year IS NOT NULL\n",
    "\n",
    "\"\"\"\n",
    "\n",
    "cursor = conn.cursor('sql_2_cursor')\n",
    "\n",
    "try:\n",
    "    \n",
    "    cursor.itersize = 5000\n",
    "    cursor.execute(sql)\n",
    "\n",
    "    while True:\n",
    "        rows = cursor.fetchmany(size=5000)\n",
    "\n",
    "        for row in rows:\n",
    "            print(row)\n",
    "        \n",
    "        if not rows:\n",
    "            break\n",
    "\n",
    "except (Exception, pg.DatabaseError) as error:\n",
    "    print(\"Error: %s\" % error)\n",
    "    cursor.close()\n",
    "\n",
    "cursor.close()"
   ]
  },
  {
   "cell_type": "code",
   "execution_count": 9,
   "id": "53b60292-1c3a-4f32-afd6-f2eaf676f76a",
   "metadata": {},
   "outputs": [],
   "source": [
    "conn.close()"
   ]
  }
 ],
 "metadata": {
  "kernelspec": {
   "display_name": "Python 3 (ipykernel)",
   "language": "python",
   "name": "python3"
  },
  "language_info": {
   "codemirror_mode": {
    "name": "ipython",
    "version": 3
   },
   "file_extension": ".py",
   "mimetype": "text/x-python",
   "name": "python",
   "nbconvert_exporter": "python",
   "pygments_lexer": "ipython3",
   "version": "3.9.10"
  }
 },
 "nbformat": 4,
 "nbformat_minor": 5
}
